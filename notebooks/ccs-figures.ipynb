{
 "cells": [
  {
   "cell_type": "code",
   "execution_count": null,
   "id": "f3ad99dd-b43c-44d0-abee-fc8736d152e0",
   "metadata": {
    "tags": []
   },
   "outputs": [],
   "source": [
    "from pathlib import Path\n",
    "\n",
    "import numpy as np\n",
    "import pandas as pd\n",
    "import matplotlib.pyplot as plt\n",
    "import seaborn as sns\n",
    "import vizta\n",
    "\n",
    "Path(\"figures\").mkdir(exist_ok=True)\n",
    "pal = vizta.mpl.set_theme(context=\"poster\", style=\"talusbio\")\n",
    "\n",
    "base_path = Path(\"../data/colab/ion-mobility-prediction\")\n",
    "pred_df = pd.read_parquet(base_path / \"test.parquet\")\n",
    "orig_df = pd.read_csv(\"../data/ccs/meier_ccs.csv\", index_col=0)\n",
    "orig_df[\"Seq\"] = (\n",
    "    orig_df[\"Modified_sequence\"]\n",
    "    .str.replace(\"_(ac)\", \"[Acetyl]-\", regex=False)\n",
    "    .str.replace(\"M(ox)\", \"M[Oxidation]\", regex=False)\n",
    "    .str.replace(\"_\", \"\", regex=False)\n",
    ")\n",
    "orig_df = orig_df.rename(columns={\"label Prediction 0\": \"orig_pred\"})\n",
    "\n",
    "pred_df = pred_df.merge(orig_df.loc[:, [\"Seq\", \"Charge\", \"orig_pred\"]], how=\"right\")\n",
    "pred_df"
   ]
  },
  {
   "cell_type": "code",
   "execution_count": null,
   "id": "178302c8-fb7c-460e-861c-64b0dbba39c8",
   "metadata": {
    "tags": []
   },
   "outputs": [],
   "source": [
    "fig, axs = plt.subplots(1, 1, figsize=(13.02, 10.43))\n",
    "ax = axs\n",
    "with sns.color_palette(\"viridis\"):\n",
    "    im = ax.hexbin(\n",
    "        pred_df[\"CCS\"],\n",
    "        pred_df[\"pred\"], \n",
    "        mincnt=1, \n",
    "        gridsize=200, \n",
    "        bins=\"log\", \n",
    "    )\n",
    "    ax.axis('equal')\n",
    "\n",
    "    lims = [\n",
    "        np.min([ax.get_xlim(), ax.get_ylim()]),  # min of both axes\n",
    "        np.max([ax.get_xlim(), ax.get_ylim()]),  # max of both axes\n",
    "    ]\n",
    "    ax.plot(lims, lims, zorder=0, linestyle=\"dashed\", color=pal[0])\n",
    "    ax.set_xlabel(\"Measured CCS ($\\AA^2$)\")\n",
    "    ax.set_ylabel(\"Predicted CCS ($\\AA^2$)\")\n",
    "    ax.grid(False)\n",
    "\n",
    "plt.savefig(\"figures/ccs_corr.png\", dpi=300, transparent=True)\n",
    "    \n",
    "fig, axs = plt.subplots(1, 2, figsize=(26, 10.43))\n",
    "ax = axs[0]\n",
    "err = pred_df[\"CCS\"] - pred_df[\"pred\"]\n",
    "orig_err = pred_df[\"CCS\"] - pred_df[\"orig_pred\"]\n",
    "sns.histplot(err, ax=ax)\n",
    "ax.set_xlabel(\"Absolute Error ($\\AA^2$)\")\n",
    "ax.set_ylabel(\"Number of Peptides\")\n",
    "ax.set_xlim(-200, 200)\n",
    "ax.axvline(-50, linestyle=\"dashed\", color=pal[0])\n",
    "ax.axvline(50, linestyle=\"dashed\", color=pal[0])\n",
    "\n",
    "ax.grid(False)\n",
    "\n",
    "ax = axs[1]\n",
    "pred_rmse = pd.DataFrame({\"rmse\": np.sqrt(err**2), \"Model\": \"Depthcharge\\nTransformer\"})\n",
    "orig_rmse = pd.DataFrame({\"rmse\": np.sqrt(orig_err**2), \"Model\": \"Meier et al, 2021\\nLSTM\"})\n",
    "rmse = pd.concat([pred_rmse, orig_rmse])\n",
    "sns.ecdfplot(data=rmse, x=\"rmse\", hue=\"Model\", ax=ax, stat=\"count\") \n",
    "ax.set_xlabel(\"Maximum RMSE ($\\AA^2$)\")\n",
    "ax.set_ylabel(\"Number of Peptides\")\n",
    "ax.grid(False)\n",
    "\n",
    "plt.tight_layout()    \n",
    "plt.savefig(\"figures/ccs.png\", dpi=300, transparent=True)"
   ]
  },
  {
   "cell_type": "code",
   "execution_count": null,
   "id": "abf09866-6ac2-413a-bd26-35c79afe518f",
   "metadata": {
    "tags": []
   },
   "outputs": [],
   "source": [
    "print(len(err))\n",
    "print((np.abs(err) < 50).sum() / len(err))"
   ]
  },
  {
   "cell_type": "code",
   "execution_count": null,
   "id": "f28bfa07-42b3-4d16-8a4c-a400b8a0b27b",
   "metadata": {
    "tags": []
   },
   "outputs": [],
   "source": [
    " pred_df[\"CCS\"].describe()"
   ]
  }
 ],
 "metadata": {
  "kernelspec": {
   "display_name": "Python 3 (ipykernel)",
   "language": "python",
   "name": "python3"
  },
  "language_info": {
   "codemirror_mode": {
    "name": "ipython",
    "version": 3
   },
   "file_extension": ".py",
   "mimetype": "text/x-python",
   "name": "python",
   "nbconvert_exporter": "python",
   "pygments_lexer": "ipython3",
   "version": "3.10.8"
  }
 },
 "nbformat": 4,
 "nbformat_minor": 5
}
