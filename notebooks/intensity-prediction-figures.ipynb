{
 "cells": [
  {
   "cell_type": "code",
   "execution_count": null,
   "id": "9d2e7fb9-ee5b-41ca-8457-2e1ddfba0d96",
   "metadata": {
    "tags": []
   },
   "outputs": [],
   "source": [
    "from pathlib import Path\n",
    "\n",
    "import h5py\n",
    "import torch\n",
    "import torch.nn.functional as F\n",
    "import numpy as np\n",
    "import numba as nb\n",
    "import pandas as pd\n",
    "import matplotlib.pyplot as plt\n",
    "import seaborn as sns\n",
    "import vizta\n",
    "import spectrum_utils.plot as sup\n",
    "import spectrum_utils.spectrum as sus\n",
    "\n",
    "Path(\"figures\").mkdir(exist_ok=True)\n",
    "pal = vizta.mpl.set_theme(context=\"poster\", style=\"talusbio\")\n",
    "b_color, y_color, *_ = sns.color_palette(\"talusbio\")\n",
    "sup.colors[\"b\"] = b_color\n",
    "sup.colors[\"y\"] = y_color\n",
    "\n",
    "base_path = Path(\"../data/colab/fragment-prediction\")\n",
    "preds = torch.load(base_path / \"test.pt\")"
   ]
  },
  {
   "cell_type": "code",
   "execution_count": null,
   "id": "eaaba07c-b2e9-4c55-9dda-fd1e6b87cbad",
   "metadata": {
    "tags": []
   },
   "outputs": [],
   "source": [
    "@nb.njit\n",
    "def vecs2seqs(vecs, charge):\n",
    "    \"\"\"Convert Prosit vectors to peptide sequenes\"\"\"\n",
    "    alphabet = list(\"ACDEFGHIKLMNPQRSTVWY\") + [\"M[Oxidation]\"]\n",
    "    for idx, (seq_idx, z) in enumerate(zip(vecs, charge)):\n",
    "        yield \"\".join([alphabet[i - 1] for i in seq_idx if i]) + f\"/{z}\"\n",
    "\n",
    "@nb.njit\n",
    "def flip_and_shift_b_ions(ions, n_ions):\n",
    "    \"\"\"Flip the b_ions and shift them one down.\n",
    "\n",
    "    This let's them match the order of our Transformer model.\n",
    "    \"\"\"\n",
    "    for idx, n_ion in enumerate(n_ions):\n",
    "        ions[idx, 1:n_ion+1, 1, :] = ions[idx, n_ion-1::-1, 1, :]\n",
    "\n",
    "    return ions\n",
    "\n",
    "\n",
    "def reformat(array):\n",
    "    array = array.reshape([-1, 29, 2, 3])\n",
    "    n_ions = (array[:, :, 0, 0] >= 0).sum(axis=1)\n",
    "        \n",
    "    # Need an extra space because we want to shift b ions.\n",
    "    array = np.pad(\n",
    "        array,\n",
    "        ((0, 0), (0, 1), (0, 0), (0, 0)), \n",
    "        \"constant\", \n",
    "        constant_values=-1,\n",
    "    )\n",
    "    array = flip_and_shift_b_ions(array, n_ions)\n",
    "    array[:, 0, 1, :] = -1\n",
    "    return torch.tensor(array).flatten(start_dim=1)\n",
    "\n",
    "with h5py.File(\"../data/proteometools/test.hdf5\") as data:\n",
    "    n_rows = data[\"scan_number\"].shape[0]\n",
    "    step = int(np.floor(n_rows / 100_000))\n",
    "    spectral_angle = data[\"spectral_angle\"][::step]\n",
    "    masses = data[\"masses_raw\"][::step]\n",
    "    intensities = data[\"intensities_raw\"][::step]\n",
    "    seq = vecs2seqs(\n",
    "        data[\"sequence_integer\"][::step],\n",
    "        np.argmax(data[\"precursor_charge_onehot\"][::step], axis=1) + 1,\n",
    "    )\n",
    "    intensities = reformat(intensities)\n",
    "    masses = reformat(masses)\n",
    "    \n",
    "    seq = pd.Series(seq)"
   ]
  },
  {
   "cell_type": "code",
   "execution_count": null,
   "id": "e4509b1b-d297-4ac2-afce-536628553ac4",
   "metadata": {
    "tags": []
   },
   "outputs": [],
   "source": [
    "def masked_spectral_angle(true, pred):\n",
    "    \"\"\"This is an PyTorch adaptation of the Prosit implementation here:\n",
    "    https://github.com/kusterlab/prosit/blob/dd16c47f8c3f4cfbd7ae84a1ca92a4d117e5e9ec/prosit/losses.py#L4-L16\n",
    "    \"\"\"\n",
    "    true = true.flatten(start_dim=1)\n",
    "    pred = pred.flatten(start_dim=1)\n",
    "    epsilon = torch.finfo(torch.float32).eps\n",
    "    pred_masked = ((true + 1) * pred) / (true + 1 + epsilon)\n",
    "    true_masked = ((true + 1) * true) / (true + 1 + epsilon)\n",
    "    pred_norm = F.normalize(true_masked, p=2, dim=-1)\n",
    "    true_norm = F.normalize(pred_masked, p=2, dim=-1)\n",
    "    product = torch.sum(pred_norm * true_norm, dim=1)\n",
    "    arccos = torch.acos(product)\n",
    "    return 2 * arccos / np.pi\n",
    "\n",
    "\n",
    "pred_sa = 1 - masked_spectral_angle(intensities, preds).detach().numpy()"
   ]
  },
  {
   "cell_type": "code",
   "execution_count": null,
   "id": "594148b5-3666-40b8-a484-8f200b0ef75c",
   "metadata": {
    "tags": []
   },
   "outputs": [],
   "source": [
    "seq[seq.str.contains(\"EDITH\")]"
   ]
  },
  {
   "cell_type": "code",
   "execution_count": null,
   "id": "286e0213-0a79-4456-a476-6958acb238b4",
   "metadata": {
    "tags": []
   },
   "outputs": [],
   "source": [
    "idx = 56582\n",
    "edith_mz = masses[idx, ...]\n",
    "edith_int = intensities[idx, ...]\n",
    "edith_pred = preds[idx, ...]\n",
    "edith_seq = seq[idx]\n",
    "\n",
    "is_peak = edith_int >= 0\n",
    "edith_mz = edith_mz[is_peak]\n",
    "edith_int = edith_int[is_peak]\n",
    "edith_pred = edith_pred[is_peak]\n",
    "\n",
    "edith_seq, edith_mz.shape, edith_int.shape\n",
    "\n",
    "edith_spec = (\n",
    "    sus.MsmsSpectrum(\"Measured Intensities\", mz=edith_mz, intensity=edith_int, precursor_mz=0, precursor_charge=4)\n",
    "    .annotate_proforma(edith_seq, 20, \"ppm\", ion_types=\"by\", max_ion_charge=3)\n",
    ")\n",
    "\n",
    "edith_pred_spec = (\n",
    "    sus.MsmsSpectrum(\"Predicted Intensities\", mz=edith_mz, intensity=edith_pred, precursor_mz=0, precursor_charge=4)\n",
    "    .annotate_proforma(edith_seq, 20, \"ppm\", ion_types=\"by\", max_ion_charge=3)\n",
    ")\n",
    "\n",
    "def annotate_ion_type(annotation, ion_types=\"aby\"):\n",
    "    if annotation.ion_type[0] in ion_types:\n",
    "        if abs(annotation.isotope) == 1:\n",
    "            iso = \"+i\" if annotation.isotope > 0 else \"-i\"\n",
    "        elif annotation.isotope != 0:\n",
    "            iso = f\"{annotation.isotope:+}i\"\n",
    "        else:\n",
    "            iso = \"\"\n",
    "        nl = {\"-NH3\": \"*\", \"-H2O\": \"o\"}.get(annotation.neutral_loss, \"\")\n",
    "        return f\"{annotation.ion_type}{iso}{'+' * annotation.charge}{nl}\"\n",
    "    else:\n",
    "        return \"\""
   ]
  },
  {
   "cell_type": "code",
   "execution_count": null,
   "id": "434d58d9-c3e5-4e8c-8115-f8f453f74eb8",
   "metadata": {
    "tags": []
   },
   "outputs": [],
   "source": [
    "_, ax = plt.subplots(1, 1, figsize=(12.45, 9.12))\n",
    "dc_angles = pd.DataFrame({\"Model\": \"Depthcharge\\nTransformer\", \"sa\": 1 - pred_sa})\n",
    "prosit_angles = pd.DataFrame({\"Model\": \"Prosit GRU (2019)\", \"sa\": 1 - spectral_angle})\n",
    "angles = pd.concat([dc_angles, prosit_angles])\n",
    "sns.ecdfplot(data=angles, x=\"sa\", hue=\"Model\", ax=ax, stat=\"count\")\n",
    "ax.set_xlabel(\"1 - Spectral Angle\")\n",
    "ax.set_ylabel(\"Number of Peptides\")\n",
    "ax.grid(False)\n",
    "plt.tight_layout()\n",
    "plt.savefig(\"figures/intensities.png\", dpi=300, transparent=True)\n",
    "\n",
    "_, ax = plt.subplots(1, 1, figsize=(26, 10.43))\n",
    "sup.mirror(edith_spec, edith_pred_spec, dict(grid=False, annot_fmt=annotate_ion_type), ax=ax)\n",
    "ax.set_ylim(-1.35, 1.35)\n",
    "ax.annotate(\"Measured\", (20, 1.2), va=\"top\")\n",
    "ax.annotate(\"Depthcharge Predicted\", (20, -1.2), va=\"bottom\")\n",
    "ax.set_title(edith_seq, ha=\"left\", loc=\"left\")\n",
    "ax.grid(False)\n",
    "plt.tight_layout()\n",
    "plt.savefig(\"figures/spectrum.png\", dpi=300, transparent=True)"
   ]
  }
 ],
 "metadata": {
  "kernelspec": {
   "display_name": "Python 3 (ipykernel)",
   "language": "python",
   "name": "python3"
  },
  "language_info": {
   "codemirror_mode": {
    "name": "ipython",
    "version": 3
   },
   "file_extension": ".py",
   "mimetype": "text/x-python",
   "name": "python",
   "nbconvert_exporter": "python",
   "pygments_lexer": "ipython3",
   "version": "3.10.8"
  }
 },
 "nbformat": 4,
 "nbformat_minor": 5
}
