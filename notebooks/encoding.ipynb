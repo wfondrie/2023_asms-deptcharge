{
 "cells": [
  {
   "cell_type": "code",
   "execution_count": null,
   "id": "df0380e1-5862-419f-96c2-410cf71f6286",
   "metadata": {
    "tags": []
   },
   "outputs": [],
   "source": [
    "from pathlib import Path\n",
    "\n",
    "import torch\n",
    "import numpy as np\n",
    "import pandas as pd\n",
    "import matplotlib.pyplot as plt\n",
    "import seaborn as sns\n",
    "import vizta\n",
    "from depthcharge.encoders import FloatEncoder\n",
    "\n",
    "Path(\"figures\").mkdir(exist_ok=True)\n",
    "pal = vizta.mpl.set_theme(context=\"poster\", style=\"talusbio\")"
   ]
  },
  {
   "cell_type": "code",
   "execution_count": null,
   "id": "84d92901-1674-46cf-84d2-0455f41cd282",
   "metadata": {
    "tags": []
   },
   "outputs": [],
   "source": [
    "n_points = 10000\n",
    "freq = int(n_points / 10)\n",
    "mz = np.linspace(0, 2000, n_points)[None, :]\n",
    "enc = FloatEncoder(32)(torch.tensor(mz))[0, ...].T.numpy()\n",
    "\n",
    "fig, axs = plt.subplots(2, 1, figsize=(25.17/2, 10.82))\n",
    "ax = axs[0]\n",
    "\n",
    "ax.imshow(enc)\n",
    "ax.set_xticks(np.arange(n_points)[::freq], labels=mz[0, ::freq].astype(int))\n",
    "ax.set_xlabel(\"m/z\", fontstyle=\"italic\")\n",
    "ax.set_ylabel(\"Feature\")\n",
    "ax.axis(\"tight\")\n",
    "ax.grid(False)\n",
    "\n",
    "\n",
    "mz = np.linspace(0, 1, n_points)[None, :]\n",
    "enc = FloatEncoder(32)(torch.tensor(mz))[0, ...].T.numpy()\n",
    "ax = axs[1]\n",
    "\n",
    "labels = [f\"{x:0.1f}\" for x in mz[0, ::freq]]\n",
    "\n",
    "ax.imshow(enc)\n",
    "ax.set_xticks(np.arange(n_points)[::freq], labels=labels)\n",
    "ax.set_xlabel(\"m/z\", fontstyle=\"italic\")\n",
    "ax.set_ylabel(\"Feature\")\n",
    "ax.axis(\"tight\")\n",
    "ax.grid(False)\n",
    "\n",
    "plt.tight_layout()\n",
    "plt.savefig(\"figures/features.png\", dpi=300, transparent=True)"
   ]
  }
 ],
 "metadata": {
  "kernelspec": {
   "display_name": "Python 3 (ipykernel)",
   "language": "python",
   "name": "python3"
  },
  "language_info": {
   "codemirror_mode": {
    "name": "ipython",
    "version": 3
   },
   "file_extension": ".py",
   "mimetype": "text/x-python",
   "name": "python",
   "nbconvert_exporter": "python",
   "pygments_lexer": "ipython3",
   "version": "3.10.8"
  }
 },
 "nbformat": 4,
 "nbformat_minor": 5
}
