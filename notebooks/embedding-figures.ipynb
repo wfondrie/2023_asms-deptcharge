{
 "cells": [
  {
   "cell_type": "code",
   "execution_count": null,
   "id": "fa58bf4e-78db-431b-a691-ba59ecf81121",
   "metadata": {
    "tags": []
   },
   "outputs": [],
   "source": [
    "from pathlib import Path\n",
    "\n",
    "import torch\n",
    "import torch.nn.functional as F\n",
    "import numpy as np\n",
    "import pandas as pd\n",
    "import matplotlib.pyplot as plt\n",
    "import seaborn as sns\n",
    "import vizta\n",
    "\n",
    "from umap import UMAP\n",
    "\n",
    "Path(\"figures\").mkdir(exist_ok=True)\n",
    "pal = vizta.mpl.set_theme(context=\"poster\", style=\"talusbio\")\n",
    "\n",
    "base_path = Path(\"../data/colab/psm-embedding/\")\n",
    "spectra = torch.load(base_path / \"spectra.pt\")\n",
    "peptides = torch.load(base_path / \"peptides.pt\")"
   ]
  },
  {
   "cell_type": "code",
   "execution_count": null,
   "id": "902feaa3-101f-4223-86a3-1e8dc930481a",
   "metadata": {
    "tags": []
   },
   "outputs": [],
   "source": [
    "n_spec = len(spectra)\n",
    "reducer = UMAP(random_state=42, n_components=2, metric=\"cosine\")\n",
    "spec_emb = reducer.fit_transform(spectra.numpy())\n",
    "print(\"Embedding peptides...\")\n",
    "pep_emb = reducer.transform(peptides.numpy())"
   ]
  },
  {
   "cell_type": "code",
   "execution_count": null,
   "id": "dd391680-8efb-4a8a-b52a-2e10d6a8fc70",
   "metadata": {
    "tags": []
   },
   "outputs": [],
   "source": [
    "torch.manual_seed(42)\n",
    "cosine_sim_target = F.cosine_similarity(spectra, peptides)\n",
    "rand_spec = spectra[torch.randint(spectra.shape[0], size=(spectra.shape[0],)), :]\n",
    "rand_pep = peptides[torch.randint(spectra.shape[0], size=(spectra.shape[0],)), :]\n",
    "cosine_sim_decoy = F.cosine_similarity(rand_spec, rand_pep)\n",
    "\n",
    "sim_df = pd.DataFrame({\"sim\": 1 - cosine_sim_target, \"Label\": \"Matched Pairs\"})\n",
    "rand_df = pd.DataFrame({\"sim\": 1 - cosine_sim_decoy, \"Label\": \"Random Pairs\"})\n",
    "sim_df = pd.concat([sim_df, rand_df])"
   ]
  },
  {
   "cell_type": "code",
   "execution_count": null,
   "id": "cff28729-7ee3-43b4-8d2d-8fd780c4d7b0",
   "metadata": {
    "tags": []
   },
   "outputs": [],
   "source": [
    "fig, axs = plt.subplots(1, 2, figsize=(26, 10.43))\n",
    "\n",
    "ax = axs[1]\n",
    "ax.scatter(spec_emb[:, 0], spec_emb[:, 1], s=1, label=\"Mass Spectra\")\n",
    "ax.scatter(pep_emb[:, 0], pep_emb[:, 1], s=1, label=\"Peptides\")\n",
    "ax.legend(frameon=False, loc=\"lower left\", markerscale=4.0)\n",
    "ax.axis(\"equal\")\n",
    "ax.set_xticks([])\n",
    "ax.set_yticks([])\n",
    "ax.set_xlabel(\"UMAP 1\")\n",
    "ax.set_ylabel(\"UMAP 2\")\n",
    "ax.grid(False)\n",
    "\n",
    "ax = axs[0]\n",
    "sns.ecdfplot(sim_df, x=\"sim\", hue=\"Label\", ax=ax, stat=\"count\")\n",
    "ax.set_xlabel(\"Cosine Distance\")\n",
    "ax.set_ylabel(\"Number of PSMs\")\n",
    "ax.grid(False)\n",
    "\n",
    "plt.tight_layout()\n",
    "plt.savefig(\"figures/embedding.png\", dpi=300, transparent=True)"
   ]
  }
 ],
 "metadata": {
  "kernelspec": {
   "display_name": "Python 3 (ipykernel)",
   "language": "python",
   "name": "python3"
  },
  "language_info": {
   "codemirror_mode": {
    "name": "ipython",
    "version": 3
   },
   "file_extension": ".py",
   "mimetype": "text/x-python",
   "name": "python",
   "nbconvert_exporter": "python",
   "pygments_lexer": "ipython3",
   "version": "3.10.8"
  }
 },
 "nbformat": 4,
 "nbformat_minor": 5
}
